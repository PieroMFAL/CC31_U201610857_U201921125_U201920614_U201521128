{
  "nbformat": 4,
  "nbformat_minor": 0,
  "metadata": {
    "colab": {
      "name": "Untitled5.ipynb",
      "provenance": [],
      "authorship_tag": "ABX9TyO2q23dskb5uJE6/YhizrSr",
      "include_colab_link": true
    },
    "kernelspec": {
      "name": "python3",
      "display_name": "Python 3"
    },
    "language_info": {
      "name": "python"
    }
  },
  "cells": [
    {
      "cell_type": "markdown",
      "metadata": {
        "id": "view-in-github",
        "colab_type": "text"
      },
      "source": [
        "<a href=\"https://colab.research.google.com/github/PieroMFAL/CC31_U201610857_U201921125_U201920614_U201521128/blob/main/Untitled5.ipynb\" target=\"_parent\"><img src=\"https://colab.research.google.com/assets/colab-badge.svg\" alt=\"Open In Colab\"/></a>"
      ]
    },
    {
      "cell_type": "code",
      "metadata": {
        "colab": {
          "base_uri": "https://localhost:8080/"
        },
        "id": "W7SLDVLJuPIx",
        "outputId": "2fda3ed0-dc63-466f-84ce-84abe636a254"
      },
      "source": [
        "\n",
        "inf = 10**18\n",
        "\n",
        "def merge(a, l, mid, r):#mezclar respuestas\n",
        "#calcular b1 (bloque de la izquierda que termina en el medio)\n",
        "  b1 = -inf #inicializar en -infinito para no considerar subarreglos vacios\n",
        "  suma = 0\n",
        "  for i in range(mid, l-1, -1):\n",
        "      suma += a[i]\n",
        "      b1 = max(b1, suma)\n",
        "\n",
        "  b2 = -inf\n",
        "  suma = 0\n",
        "  for i in range(mid+1, r+1):\n",
        "      suma +=a[i]\n",
        "      b2 = max(b2, suma)\n",
        "\n",
        "  return b1 + b2\n",
        "\n",
        "def conquer(a, l, r): #resolver recursivamente y mezclar respuestas\n",
        "    # l: left\n",
        "    # r: rigth\n",
        "    if l==r: return a[l]\n",
        "    mid = (l+r) //2\n",
        "    max_L = conquer(a, l, mid)\n",
        "    max_R = conquer(a, mid+1, r)\n",
        "    # ans = max(max_L, max_R, cruce)  \n",
        "    return max(max_L, max_R, merge(a, l, mid, r))\n",
        "\n",
        "a = [-2,1,-3,4,-1,2,1,-5,4] #La respuesta es 6,[4,-1,2,1]\n",
        "n = len(a)\n",
        "\n",
        "print (conquer(a,0,len(a)-1))"
      ],
      "execution_count": 3,
      "outputs": [
        {
          "output_type": "stream",
          "text": [
            "6\n"
          ],
          "name": "stdout"
        }
      ]
    }
  ]
}